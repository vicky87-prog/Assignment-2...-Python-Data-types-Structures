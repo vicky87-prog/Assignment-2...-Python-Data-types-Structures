{
 "cells": [
  {
   "cell_type": "code",
   "execution_count": null,
   "id": "b0a3e3a7-84fb-41e2-9115-87225ca5e280",
   "metadata": {},
   "outputs": [],
   "source": [
    "# Q1) What are data structures, and why are they important?\n",
    "# Ans1) Data structure is kind of a data container where any information or data gets stored in a sequencial manner. It is important because it is a way of organizing and storing data so that it can be accessed & manipulated or used efficeintly to get some insights of it.\n",
    "#       Example of Data structure are List, String and so on\n",
    "\n",
    "# Q2) Explain the difference between mutable and immutable data types with examples?\n",
    "# Ans2) Mutable data types are those whose values can be changed after creation. The memory location of a mutable object remains unchanged when it is modified in-place. As a result, all references to that object will change.\n",
    "#       Examples of Mutable data types are list: Lists are ordered collections that can be modified by adding, removing, or changing elements.\n",
    "#                                          Dict: Dictionaries are collections of key-value pairs, and we can add, remove, or modify items using their keys.\n",
    "#                                          Set: Sets are unordered collections of unique elements, and we can add or remove elements from them.\n",
    "\n",
    "#       Immutable data types are those whose values cannot be changed after creation. When you modify an immutable object, you create a new object with the modified value, and the original object remains unchanged. As a result, any variables referencing the original object won't be updated.\n",
    "#       Examples of Immutable data types are Int: Integer data type represents whole numbers, and once created, their value cannot be changed.\n",
    "#                                            Float: Floating-point data type represents real numbers and is immutable.\n",
    "#                                            Str: String data type represents a sequence of characters, and you cannot change its individual characters.\n",
    "#                                            Tuple: A tuple is an ordered collection, similar to a list, but their elements cannot be modified once they have been created.\n",
    "\n",
    "# Q3) What are the main differences between lists and tuples in Python?\n",
    "# Ans3) The main diffrence between both is Lists are mutable(can be modified) & Tuples are immutable(cannot be modified).Lists have several built-in methods & Tuples have fewer built-in methods\n",
    "#       Iteration over lists is time-consuming & Iterations over tuple is faster. Lists are better for performing operations, such as insertion and deletion & Tuples are more suitable for accessing elements efficiently.\n",
    "#       Lists consume more memory & Tuples consumes less memory. Lists are more prone to unexpected changes and errors & Tuples, being immutable are less error prone.\n",
    "\n",
    "# Q4) Describe how dictionaries store data?\n",
    "# Ans4) Dictionaries in Python are a collection of key-value pairs, where each key is associated with a value. They are mutable, meaning they can be changed after they are created, and they do not allow duplicate keys, ensuring that each key is unique within a dictionary.\n",
    "\n",
    "# Q5) Why might you use a set instead of a list in Python?\n",
    "# Ans5) A set is an unordered collection of unique elements. Sets are defined using curly braces {} or the set() function.\n",
    "#       In Python, both sets and lists are used to store collections of elements but they have key differences that make them suitable for different use cases where If duplicates are not meaningful in your data.. The main difference is that lists are ordered, meaning the order of elements is preserved and they can be accessed by their index while sets are unordered meaning they do not maintain the order of elements and automatically ensure all elements are unique.\n",
    "\n",
    "# Q6) What is a string in Python, and how is it different from a list?\n",
    "# Ans6) A string is a sequence of characters represent & manipulate textual data, In string characters are represented using numerical values & enclosed in quotes (single, double, or triple). Strings are immutable, meaning once created, they cannot be changed. Each character in a string can be accessed using indexing or slicing operations.\n",
    "#       On the other hand list is a built-in dynamic sized array (automatically grows and shrinks). We can store all types of items (including another list) in a list. A list may contain mixed type of items, this is possible because a list mainly stores references at contiguous locations and actual items maybe stored at different locations.\n",
    "\n",
    "# Q7) How do tuples ensure data integrity in Python?\n",
    "# Ans7) Because of its immutability feature tuples ensure data integrity in Python. Tuples can store heterogeneous data types, making them ideal for grouping related but distinct pieces of information. Their immutability ensures that the grouped data remains intact and logically connected.\n",
    "\n",
    "# Q8) What is a hash table, and how does it relate to dictionaries in Python?\n",
    "# Ans8) A hash table is a data structure that maps keys to values using a hash function. This function computes an index into an array of buckets or slots, from which the desired value can be found. Hash tables are widely used for their efficiency in performing insertions, deletions, and lookups.\n",
    "\n",
    "# Q9) Can lists contain different data types in Python?\n",
    "# Ans9) Yes lists can contain different data types in Python. Python lists are highly flexible and can store a mix of integers, floats, strings, booleans, objects, or even other lists. This versatility makes Python lists a powerful tool for handling diverse collections of data.\n",
    "\n",
    "# Q10) Explain why strings are immutable in Python?\n",
    "# Ans10) Strings in Python are “immutable” which means they can not be changed after they are created. Some other immutable data types are integers, float, boolean, etc. \n",
    "#        The immutability of Python string is very useful as it helps in hashing, performance optimization, safety, ease of use & so on.\n",
    "\n",
    "# Q11) What advantages do dictionaries offer over lists for certain tasks?\n",
    "# Ans11) Dictionaries offer several advantages over lists for certain tasks:\n",
    "#        Fast Value Retrieval: Dictionaries allow for quick access to values using unique keys, making data retrieval significantly faster compared to lists.\n",
    "#        Efficient Searches and Deletions: For large-scale searches and deletions, dictionaries outperform lists, as they can locate and remove items more efficiently.\n",
    "#        Flexible Data Organization: Unlike lists, which maintain order, dictionaries store data in key-value pairs, allowing for more flexible and intuitive data organization.\n",
    "#        These advantages make dictionaries particularly useful in scenarios where quick access and efficient data management are essential.\n",
    "\n",
    "# Q12) Describe a scenario where using a tuple would be preferable over a list?\n",
    "# Ans12) When we dont want to change the data in that scenerio Tuple is preferable because of its immutability.\n",
    "\n",
    "# Q13) How do sets handle duplicate values in Python?\n",
    "# Ans13) Sets ignore duplicate values. In Python, a set is an unordered collection of unique elements. This means that a set cannot contain duplicate elements. When you try to add a duplicate element to a set, it will be ignored, and the set will remain unchanged.\n",
    "\n",
    "# Q14) How does the “in” keyword work differently for lists and dictionaries?\n",
    "# Ans14) The in and not in operator works on dictionaries; it tells you whether something appears or not as a key in the dictionary. It returns two values True or False. The in operator uses different algorithms for lists and dictionaries.\n",
    "\n",
    "# Q15) Can you modify the elements of a tuple? Explain why or why not?\n",
    "# Ans15) We cannot modify the elements of a tuple in Python because tuples are immutable. This means that once a tuple is created, its elements cannot be changed, added, or removed. The design choice for immutability is primarily for efficiency, as it allows for optimizations in memory usage and performance.\n",
    "\n",
    "# Q16) What is a nested dictionary, and give an example of its use case?\n",
    "# Ans16) A nested dictionary in Python is a dictionary inside another dictionary. This allows you to store complex data structures in a single dictionary. Each key in the outer dictionary can map to another dictionary, enabling hierarchical data storage.\n",
    "#        You can add elements to a nested dictionary by specifying the key and value\n",
    "\n",
    "# Q17) Describe the time complexity of accessing elements in a dictionary?\n",
    "# Ans17) Not aware about this concept.\n",
    "\n",
    "# Q18) In what situations are lists preferred over dictionaries?\n",
    "# Ans18) To Maintain order, making them great when sequence matters. Allow duplicates—ideal for collections where repetition is key. Quick access to elements by index, perfect for iteration. Perfect for key-value pairs—associate unique keys with values.\n",
    "\n",
    "# Q19) Why are dictionaries considered unordered, and how does that affect data retrieval?\n",
    "# Ans19) A dictionary is often referred to as an unordered collection of objects because the elements within a dictionary are not arranged in a specific order. In other words, the items in a dictionary do not have an inherent positional index like they do in a list or an array.\n",
    "\n",
    "# Q20) Explain the difference between a list and a dictionary in terms of data retrieval.\n",
    "# Ans20) The key difference between a list and a dictionary in terms of data retrieval lies in how data is accessed and the efficiency of that access:\n",
    "#        List - Ordered collection of items, Items are accessed by index, which is an integer starting from 0.Requires knowing the position of the item, Time complexity for retrieval by index: O(1) (very fast),Searching for a value (e.g., find 'banana') is O(n) since it may require scanning the whole list\n",
    "#        Dictionary - Unordered (or insertion-ordered in Python 3.7+) collection of key-value pairs, Items are accessed by key, which can be any immutable type (e.g., string, number), Requires knowing the key, Time complexity for retrieval by key: O(1) (on average), More efficient than lists when accessing data by some identifier.\n"
   ]
  },
  {
   "cell_type": "code",
   "execution_count": 1,
   "id": "daaef855-7c44-4f2d-b066-d8cbbef65e0a",
   "metadata": {},
   "outputs": [
    {
     "data": {
      "text/plain": [
       "'Vikas Gaur'"
      ]
     },
     "execution_count": 1,
     "metadata": {},
     "output_type": "execute_result"
    }
   ],
   "source": [
    "# Practical Questions\n",
    "\n",
    "# Q1) Write a code to create a string with your name and print it.\n",
    "\n",
    "name = \"Vikas Gaur\"\n",
    "name"
   ]
  },
  {
   "cell_type": "code",
   "execution_count": 2,
   "id": "3ab495cc-7575-418e-83ae-317ad2d8fd90",
   "metadata": {},
   "outputs": [
    {
     "name": "stdout",
     "output_type": "stream",
     "text": [
      "My name is Vikas Gaur\n"
     ]
    }
   ],
   "source": [
    "print(\"My name is\", name)"
   ]
  },
  {
   "cell_type": "code",
   "execution_count": 3,
   "id": "3503d743-6cc6-49b3-863e-0453390c4f60",
   "metadata": {},
   "outputs": [
    {
     "data": {
      "text/plain": [
       "11"
      ]
     },
     "execution_count": 3,
     "metadata": {},
     "output_type": "execute_result"
    }
   ],
   "source": [
    "# Q2) Write a code to find the length of the string \"Hello World\".\n",
    "\n",
    "# Define the string\n",
    "first_code = \"Hello World\"\n",
    "\n",
    "# Find the length using len()\n",
    "length = len(first_code)\n",
    "length"
   ]
  },
  {
   "cell_type": "code",
   "execution_count": 4,
   "id": "ca829760-8fb1-4cd9-96e0-b2852e896421",
   "metadata": {},
   "outputs": [
    {
     "name": "stdout",
     "output_type": "stream",
     "text": [
      "length of the string is 11\n"
     ]
    }
   ],
   "source": [
    "print(\"length of the string is\",length)"
   ]
  },
  {
   "cell_type": "code",
   "execution_count": 6,
   "id": "f977c717-3160-4574-a76a-ad3e2a181a40",
   "metadata": {},
   "outputs": [
    {
     "data": {
      "text/plain": [
       "'Pyt'"
      ]
     },
     "execution_count": 6,
     "metadata": {},
     "output_type": "execute_result"
    }
   ],
   "source": [
    "# Q3) Write a code to slice the first 3 characters from the string \"Python Programming\".\n",
    "\n",
    "text = \"Python Programming\"\n",
    "remove_characters = text[:3]\n",
    "remove_characters"
   ]
  },
  {
   "cell_type": "code",
   "execution_count": 7,
   "id": "9ee6ec17-7d0b-4a8d-8e9c-0c48594f65d4",
   "metadata": {},
   "outputs": [
    {
     "name": "stdout",
     "output_type": "stream",
     "text": [
      "Pyt\n"
     ]
    }
   ],
   "source": [
    "print(remove_characters)"
   ]
  },
  {
   "cell_type": "code",
   "execution_count": 20,
   "id": "4b975df2-91ba-41cc-bfa2-8636625da459",
   "metadata": {},
   "outputs": [
    {
     "name": "stdout",
     "output_type": "stream",
     "text": [
      "HELLO\n"
     ]
    }
   ],
   "source": [
    "# Q4) Write a code to convert the string \"hello\" to uppercase\n",
    "\n",
    "text = \"hello\"\n",
    "uppercase_text = text.upper()\n",
    "print(uppercase_text)"
   ]
  },
  {
   "cell_type": "code",
   "execution_count": 22,
   "id": "aae79e4f-623d-467a-a660-b448c3a10537",
   "metadata": {},
   "outputs": [
    {
     "data": {
      "text/plain": [
       "'I like orange'"
      ]
     },
     "execution_count": 22,
     "metadata": {},
     "output_type": "execute_result"
    }
   ],
   "source": [
    "# Q5) Write a code to replace the word \"apple\" with \"orange\" in the string \"I like apple\"\n",
    "\n",
    "fruit = \"I like apple\"\n",
    "new_fruit = fruit.replace(\"apple\", \"orange\")\n",
    "new_fruit"
   ]
  },
  {
   "cell_type": "code",
   "execution_count": 23,
   "id": "4a2f0e30-a041-441b-9dc4-5a62200957cf",
   "metadata": {},
   "outputs": [
    {
     "name": "stdout",
     "output_type": "stream",
     "text": [
      "I like orange\n"
     ]
    }
   ],
   "source": [
    "print(new_fruit)"
   ]
  },
  {
   "cell_type": "code",
   "execution_count": 26,
   "id": "83d27a81-3b04-46b0-b860-f554bc454c0f",
   "metadata": {},
   "outputs": [
    {
     "name": "stdout",
     "output_type": "stream",
     "text": [
      "I like mango\n"
     ]
    }
   ],
   "source": [
    "print(new_fruit.replace(\"orange\", \"mango\"))"
   ]
  },
  {
   "cell_type": "code",
   "execution_count": 27,
   "id": "278f9416-17e1-47d7-bd44-89c99de0c906",
   "metadata": {},
   "outputs": [
    {
     "data": {
      "text/plain": [
       "[1, 2, 3, 4, 5]"
      ]
     },
     "execution_count": 27,
     "metadata": {},
     "output_type": "execute_result"
    }
   ],
   "source": [
    "# Q6) Write a code to create a list with numbers 1 to 5 and print it.\n",
    "\n",
    "numbers = [1, 2, 3, 4, 5]\n",
    "numbers"
   ]
  },
  {
   "cell_type": "code",
   "execution_count": 28,
   "id": "0108ad59-a286-4c5e-a2ff-640c812e87cd",
   "metadata": {},
   "outputs": [
    {
     "name": "stdout",
     "output_type": "stream",
     "text": [
      "[1, 2, 3, 4, 5]\n"
     ]
    }
   ],
   "source": [
    "print(numbers)"
   ]
  },
  {
   "cell_type": "code",
   "execution_count": 29,
   "id": "eaa69602-d3f6-4b3d-b2ef-762ee4004a2b",
   "metadata": {},
   "outputs": [
    {
     "name": "stdout",
     "output_type": "stream",
     "text": [
      "[1, 2, 3, 4, 5]\n"
     ]
    }
   ],
   "source": [
    "numbers = list(range(1, 6))\n",
    "print(numbers)"
   ]
  },
  {
   "cell_type": "code",
   "execution_count": 30,
   "id": "eaa32e18-58a9-4708-912d-2dba6e7c0455",
   "metadata": {},
   "outputs": [
    {
     "name": "stdout",
     "output_type": "stream",
     "text": [
      "[1, 2, 3, 4, 10]\n"
     ]
    }
   ],
   "source": [
    "# Q7) Write a code to append the number 10 to the list [1, 2, 3, 4]\n",
    "\n",
    "numbers = [1, 2, 3, 4]\n",
    "numbers.append(10)\n",
    "print(numbers)"
   ]
  },
  {
   "cell_type": "code",
   "execution_count": 31,
   "id": "da60441b-1fef-4cd3-a95b-9c90192e69af",
   "metadata": {},
   "outputs": [
    {
     "name": "stdout",
     "output_type": "stream",
     "text": [
      "[1, 2, 4, 5]\n"
     ]
    }
   ],
   "source": [
    "# Q8) Write a code to remove the number 3 from the list [1, 2, 3, 4, 5]\n",
    "\n",
    "numbers_list = [1, 2, 3, 4, 5]\n",
    "numbers_list.remove(3)\n",
    "print(numbers_list)"
   ]
  },
  {
   "cell_type": "code",
   "execution_count": 34,
   "id": "7ab8174c-d05e-42a7-a65b-169649f47159",
   "metadata": {},
   "outputs": [
    {
     "name": "stdout",
     "output_type": "stream",
     "text": [
      "b\n"
     ]
    }
   ],
   "source": [
    "# Q9) Write a code to access the second element in the list ['a', 'b', 'c', 'd']\n",
    "\n",
    "abcd_list = ['a', 'b', 'c', 'd']\n",
    "second_element = abcd_list[1]\n",
    "print(second_element)"
   ]
  },
  {
   "cell_type": "code",
   "execution_count": 35,
   "id": "e5f4a925-4dfe-4a67-9600-d4b1d963c3fc",
   "metadata": {},
   "outputs": [
    {
     "data": {
      "text/plain": [
       "'b'"
      ]
     },
     "execution_count": 35,
     "metadata": {},
     "output_type": "execute_result"
    }
   ],
   "source": [
    "abcd_list = ['a', 'b', 'c', 'd']\n",
    "abcd_list[1]"
   ]
  },
  {
   "cell_type": "code",
   "execution_count": 39,
   "id": "b8d6829e-89e5-44c7-a8b1-28d4603f7cbe",
   "metadata": {},
   "outputs": [
    {
     "name": "stdout",
     "output_type": "stream",
     "text": [
      "[50, 40, 30, 20, 10]\n"
     ]
    }
   ],
   "source": [
    "# Q10) Write a code to reverse the list [10, 20, 30, 40, 50]\n",
    "\n",
    "normal_list = [10, 20, 30, 40, 50]\n",
    "normal_list.reverse()\n",
    "print(normal_list)"
   ]
  },
  {
   "cell_type": "code",
   "execution_count": 40,
   "id": "6894f449-ff24-454d-94ed-77141e92ce8e",
   "metadata": {},
   "outputs": [
    {
     "name": "stdout",
     "output_type": "stream",
     "text": [
      "[50, 40, 30, 20, 10]\n"
     ]
    }
   ],
   "source": [
    "normal_list = [10, 20, 30, 40, 50]\n",
    "reverse_list = normal_list[::-1]\n",
    "print(reverse_list)"
   ]
  },
  {
   "cell_type": "code",
   "execution_count": 41,
   "id": "3920ca7b-a9a7-41ca-b3ae-481fde79df91",
   "metadata": {},
   "outputs": [
    {
     "name": "stdout",
     "output_type": "stream",
     "text": [
      "(100, 200, 300)\n"
     ]
    }
   ],
   "source": [
    "# Q11) Write a code to create a tuple with the elements 100, 200, 300 and print it\n",
    "\n",
    "my_tup = (100, 200, 300)\n",
    "print(my_tup)"
   ]
  },
  {
   "cell_type": "code",
   "execution_count": 42,
   "id": "3d6704f6-09a7-406e-90dc-aba293a2bc94",
   "metadata": {},
   "outputs": [
    {
     "data": {
      "text/plain": [
       "(100, 200, 300)"
      ]
     },
     "execution_count": 42,
     "metadata": {},
     "output_type": "execute_result"
    }
   ],
   "source": [
    "my_tup"
   ]
  },
  {
   "cell_type": "code",
   "execution_count": 44,
   "id": "a9ab49c9-f7a6-4be7-ac77-b52e7aa0174f",
   "metadata": {},
   "outputs": [
    {
     "data": {
      "text/plain": [
       "'blue'"
      ]
     },
     "execution_count": 44,
     "metadata": {},
     "output_type": "execute_result"
    }
   ],
   "source": [
    "# Q12) Write a code to access the second-to-last element of the tuple ('red', 'green', 'blue', 'yellow')\n",
    "\n",
    "my_tup = ('red', 'green', 'blue', 'yellow')\n",
    "my_tup[-2]"
   ]
  },
  {
   "cell_type": "code",
   "execution_count": 45,
   "id": "a84a7e28-55df-44ab-87bd-874da102bfb2",
   "metadata": {},
   "outputs": [
    {
     "data": {
      "text/plain": [
       "'blue'"
      ]
     },
     "execution_count": 45,
     "metadata": {},
     "output_type": "execute_result"
    }
   ],
   "source": [
    "my_tup[2]"
   ]
  },
  {
   "cell_type": "code",
   "execution_count": 50,
   "id": "829049cd-ed99-47a2-96ff-227491de6545",
   "metadata": {},
   "outputs": [
    {
     "data": {
      "text/plain": [
       "('red', 'green', 'blue')"
      ]
     },
     "execution_count": 50,
     "metadata": {},
     "output_type": "execute_result"
    }
   ],
   "source": [
    "my_tup[:-1]"
   ]
  },
  {
   "cell_type": "code",
   "execution_count": 51,
   "id": "88c2dd22-8af4-419d-9b99-3c4024ef2b6d",
   "metadata": {},
   "outputs": [
    {
     "data": {
      "text/plain": [
       "('yellow', 'blue', 'green', 'red')"
      ]
     },
     "execution_count": 51,
     "metadata": {},
     "output_type": "execute_result"
    }
   ],
   "source": [
    "my_tup[::-1] # Reverse order"
   ]
  },
  {
   "cell_type": "code",
   "execution_count": 55,
   "id": "71919984-9433-48e5-9dc7-7a46cb341655",
   "metadata": {},
   "outputs": [
    {
     "data": {
      "text/plain": [
       "5"
      ]
     },
     "execution_count": 55,
     "metadata": {},
     "output_type": "execute_result"
    }
   ],
   "source": [
    "# Q13)  Write a code to find the minimum number in the tuple (10, 20, 5, 15)\n",
    "\n",
    "my_tup = (10, 20, 5, 15)\n",
    "newmy_tup = min(10, 20, 5, 15)\n",
    "newmy_tup"
   ]
  },
  {
   "cell_type": "code",
   "execution_count": 56,
   "id": "3bca9ab8-4379-4c0a-abb6-94c54c1f3d84",
   "metadata": {},
   "outputs": [
    {
     "data": {
      "text/plain": [
       "20"
      ]
     },
     "execution_count": 56,
     "metadata": {},
     "output_type": "execute_result"
    }
   ],
   "source": [
    "my_tup = (10, 20, 5, 15)\n",
    "newmy_tup = max(10, 20, 5, 15)\n",
    "newmy_tup"
   ]
  },
  {
   "cell_type": "code",
   "execution_count": 57,
   "id": "20f51b75-1656-4b92-85a1-69369514488d",
   "metadata": {},
   "outputs": [
    {
     "data": {
      "text/plain": [
       "1"
      ]
     },
     "execution_count": 57,
     "metadata": {},
     "output_type": "execute_result"
    }
   ],
   "source": [
    "# Q14) Write a code to find the index of the element \"cat\" in the tuple ('dog', 'cat', 'rabbit')\n",
    "\n",
    "animal_tup = ('dog', 'cat', 'rabbit')\n",
    "animal_cat = animal_tup.index(\"cat\")\n",
    "animal_cat\n"
   ]
  },
  {
   "cell_type": "code",
   "execution_count": 58,
   "id": "e54853bb-1d0b-41e1-970d-51ed87424d9f",
   "metadata": {},
   "outputs": [
    {
     "data": {
      "text/plain": [
       "1"
      ]
     },
     "execution_count": 58,
     "metadata": {},
     "output_type": "execute_result"
    }
   ],
   "source": [
    "animal_tup = ('dog', 'cat', 'rabbit')\n",
    "animal_tup.index(\"cat\")"
   ]
  },
  {
   "cell_type": "code",
   "execution_count": 59,
   "id": "3fc6895d-b46c-40b4-878d-b072b4e2ad36",
   "metadata": {},
   "outputs": [
    {
     "name": "stdout",
     "output_type": "stream",
     "text": [
      "Yes, kiwi in the fruit_tup.\n"
     ]
    }
   ],
   "source": [
    "# Q15) Write a code to create a tuple containing three different fruits and check if \"kiwi\" is in it.\n",
    "\n",
    "fruit_tup = (\"apple\", \"banana\", \"mango\", \"kiwi\")\n",
    "if \"kiwi\" in fruit_tup:\n",
    "    print(\"Yes, kiwi in the fruit_tup.\")\n",
    "else:\n",
    "    print(\"No, kiwi is not there.\")\n",
    "    "
   ]
  },
  {
   "cell_type": "code",
   "execution_count": 60,
   "id": "1e2d22ff-57d4-49b1-9fe6-647bbf0221c1",
   "metadata": {},
   "outputs": [
    {
     "name": "stdout",
     "output_type": "stream",
     "text": [
      "{'b', 'c', 'a'}\n"
     ]
    }
   ],
   "source": [
    "# Q16)  Write a code to create a set with the elements 'a', 'b', 'c' and print it.\n",
    "\n",
    "alpha_set = {\"a\", \"b\", \"c\"}\n",
    "print(alpha_set)"
   ]
  },
  {
   "cell_type": "code",
   "execution_count": 61,
   "id": "b85438ff-b4f4-4177-9a89-c2c14f7acdc5",
   "metadata": {},
   "outputs": [
    {
     "data": {
      "text/plain": [
       "{'a', 'b', 'c'}"
      ]
     },
     "execution_count": 61,
     "metadata": {},
     "output_type": "execute_result"
    }
   ],
   "source": [
    "alpha_set"
   ]
  },
  {
   "cell_type": "code",
   "execution_count": 65,
   "id": "daae6b89-8376-4806-86db-790a50b511fb",
   "metadata": {},
   "outputs": [
    {
     "name": "stdout",
     "output_type": "stream",
     "text": [
      "set()\n"
     ]
    }
   ],
   "source": [
    "# Q17) Write a code to clear all elements from the set {1, 2, 3, 4, 5}\n",
    "\n",
    "num_set = {1, 2, 3, 4, 5}\n",
    "num_set.clear()\n",
    "print(num_set)"
   ]
  },
  {
   "cell_type": "code",
   "execution_count": 68,
   "id": "10bad220-8607-4c8a-872e-d45614a25ac7",
   "metadata": {},
   "outputs": [
    {
     "name": "stdout",
     "output_type": "stream",
     "text": [
      "{1, 2, 3}\n"
     ]
    }
   ],
   "source": [
    "# Q18) Write a code to remove the element 4 from the set {1, 2, 3, 4}\n",
    "\n",
    "num_set = {1, 2, 3, 4}\n",
    "num_set.remove(4)\n",
    "print(num_set)"
   ]
  },
  {
   "cell_type": "code",
   "execution_count": 69,
   "id": "8e1d14fc-af09-44a1-9cbf-8235d2b50652",
   "metadata": {},
   "outputs": [
    {
     "name": "stdout",
     "output_type": "stream",
     "text": [
      "{1, 2, 3, 4, 5}\n"
     ]
    }
   ],
   "source": [
    "# Q19) Write a code to find the union of two sets {1, 2, 3} and {3, 4, 5}\n",
    "\n",
    "set1 = {1, 2, 3}\n",
    "set2 = {3, 4, 5}\n",
    "union_set = set1.union(set2)\n",
    "print(union_set)"
   ]
  },
  {
   "cell_type": "code",
   "execution_count": 73,
   "id": "9243d2b8-9357-4860-8b89-7cbd5513d08f",
   "metadata": {},
   "outputs": [
    {
     "name": "stdout",
     "output_type": "stream",
     "text": [
      "{1, 2, 3, 4, 5}\n"
     ]
    }
   ],
   "source": [
    "union_set3 = set1 | set2\n",
    "print(union_set3)"
   ]
  },
  {
   "cell_type": "code",
   "execution_count": 74,
   "id": "c22f23ef-cfbd-4416-9296-67bca1a6c659",
   "metadata": {},
   "outputs": [
    {
     "name": "stdout",
     "output_type": "stream",
     "text": [
      "{2, 3}\n"
     ]
    }
   ],
   "source": [
    "# Q20) Write a code to find the intersection of two sets {1, 2, 3} and {2, 3, 4}\n",
    "\n",
    "set1 = {1, 2, 3}\n",
    "set2 = {2, 3, 4}\n",
    "intersection_set = set1.intersection(set2)\n",
    "print(intersection_set)"
   ]
  },
  {
   "cell_type": "code",
   "execution_count": 75,
   "id": "1849ae21-49de-4a89-8452-2fcaaf1b879c",
   "metadata": {},
   "outputs": [
    {
     "name": "stdout",
     "output_type": "stream",
     "text": [
      "{2, 3}\n"
     ]
    }
   ],
   "source": [
    "intersection_set3 = set1 & set2\n",
    "print(intersection_set3)"
   ]
  },
  {
   "cell_type": "code",
   "execution_count": 79,
   "id": "29ed37fb-c144-49af-994c-83dfab04ccb3",
   "metadata": {},
   "outputs": [
    {
     "name": "stdout",
     "output_type": "stream",
     "text": [
      "{'name': 'Vikas', 'age': 35, 'city': 'Gurgaon'}\n"
     ]
    }
   ],
   "source": [
    "# Q21) Write a code to create a dictionary with the keys \"name\", \"age\", and \"city\", and print it\n",
    "\n",
    "information_dict = {\n",
    "    \"name\" : \"Vikas\",\n",
    "    \"age\" : 35,\n",
    "    \"city\" : \"Gurgaon\"\n",
    "}\n",
    "print(information_dict)"
   ]
  },
  {
   "cell_type": "code",
   "execution_count": 82,
   "id": "ba685fce-1d03-4ebf-8bf9-77fca190908f",
   "metadata": {},
   "outputs": [
    {
     "data": {
      "text/plain": [
       "{'name': 'John', 'age': 25, 'country': 'USA'}"
      ]
     },
     "execution_count": 82,
     "metadata": {},
     "output_type": "execute_result"
    }
   ],
   "source": [
    "# Q22) Write a code to add a new key-value pair \"country\": \"USA\" to the dictionary {'name': 'John', 'age': 25}\n",
    "\n",
    "information_dict = {'name': 'John', 'age': 25}\n",
    "information_dict[\"country\"] = \"USA\"\n",
    "information_dict"
   ]
  },
  {
   "cell_type": "code",
   "execution_count": 83,
   "id": "2c6d2d3b-8488-4ff3-bae7-14b7ff4f2afc",
   "metadata": {},
   "outputs": [
    {
     "name": "stdout",
     "output_type": "stream",
     "text": [
      "{'name': 'John', 'age': 25, 'country': 'USA'}\n"
     ]
    }
   ],
   "source": [
    "print(information_dict)"
   ]
  },
  {
   "cell_type": "code",
   "execution_count": 84,
   "id": "eca9829a-fd1e-4f25-b019-fdb48972be8e",
   "metadata": {},
   "outputs": [
    {
     "data": {
      "text/plain": [
       "'Alice'"
      ]
     },
     "execution_count": 84,
     "metadata": {},
     "output_type": "execute_result"
    }
   ],
   "source": [
    "# Q23) Write a code to access the value associated with the key \"name\" in the dictionary {'name': 'Alice', 'age': 30}.\n",
    "\n",
    "information_dict = {'name': 'Alice', 'age': 30}\n",
    "name_value = information_dict['name']\n",
    "name_value"
   ]
  },
  {
   "cell_type": "code",
   "execution_count": 85,
   "id": "0fa938ad-7763-4bc5-ac06-161af5ec6f99",
   "metadata": {},
   "outputs": [
    {
     "name": "stdout",
     "output_type": "stream",
     "text": [
      "Alice\n"
     ]
    }
   ],
   "source": [
    "print(name_value)"
   ]
  },
  {
   "cell_type": "code",
   "execution_count": 87,
   "id": "2039f194-6e19-4ef8-af99-185bf92dcc12",
   "metadata": {},
   "outputs": [
    {
     "data": {
      "text/plain": [
       "'Alice'"
      ]
     },
     "execution_count": 87,
     "metadata": {},
     "output_type": "execute_result"
    }
   ],
   "source": [
    "name_value1 = information_dict.get('name')\n",
    "name_value1"
   ]
  },
  {
   "cell_type": "code",
   "execution_count": 90,
   "id": "449e6578-3f57-4adb-9e41-914bbf1eaa0b",
   "metadata": {},
   "outputs": [
    {
     "data": {
      "text/plain": [
       "{'name': 'Bob', 'city': 'New York'}"
      ]
     },
     "execution_count": 90,
     "metadata": {},
     "output_type": "execute_result"
    }
   ],
   "source": [
    "# Q24) Write a code to remove the key \"age\" from the dictionary {'name': 'Bob', 'age': 22, 'city': 'New York'}\n",
    "\n",
    "information_dict = {'name': 'Bob', 'age': 22, 'city': 'New York'}\n",
    "del information_dict[\"age\"]\n",
    "information_dict"
   ]
  },
  {
   "cell_type": "code",
   "execution_count": 95,
   "id": "dd4c6b6a-d260-4e3b-91e6-659a3dc2b853",
   "metadata": {},
   "outputs": [
    {
     "data": {
      "text/plain": [
       "22"
      ]
     },
     "execution_count": 95,
     "metadata": {},
     "output_type": "execute_result"
    }
   ],
   "source": [
    "information_dict = {'name': 'Bob', 'age': 22, 'city': 'New York'}\n",
    "information_dict.pop(\"age\")"
   ]
  },
  {
   "cell_type": "code",
   "execution_count": 98,
   "id": "962c325b-eb3a-41e8-8882-3dba706791ff",
   "metadata": {},
   "outputs": [
    {
     "name": "stdout",
     "output_type": "stream",
     "text": [
      "key 'city' is there in the dictionary.\n"
     ]
    }
   ],
   "source": [
    "# Q25) Write a code to check if the key \"city\" exists in the dictionary {'name': 'Alice', 'city': 'Paris'}.\n",
    "\n",
    "city_dict = {'name': 'Alice', 'city': 'Paris'}\n",
    "if \"city\" in city_dict:\n",
    "    print(\"key 'city' is there in the dictionary.\")\n",
    "else:\n",
    "    print(\"key 'city' is not there in the dictionary.\")\n",
    "    "
   ]
  },
  {
   "cell_type": "code",
   "execution_count": 99,
   "id": "e16d8a35-1b75-4fe1-9b46-789ec52f005f",
   "metadata": {},
   "outputs": [
    {
     "name": "stdout",
     "output_type": "stream",
     "text": [
      "List: [1, 2, 3]\n",
      "Tuple: ('a', 'b', 'c')\n",
      "Dictionary: {'name': 'Alice', 'age': 25}\n"
     ]
    }
   ],
   "source": [
    "# Q26) Write a code to create a list, a tuple, and a dictionary, and print them all.\n",
    "\n",
    "# Creating a list\n",
    "my_list = [1, 2, 3]\n",
    "\n",
    "# Creating a tuple\n",
    "my_tuple = ('a', 'b', 'c')\n",
    "\n",
    "# Creating a dictionary\n",
    "my_dict = {'name': 'Alice', 'age': 25}\n",
    "\n",
    "# Printing all\n",
    "print(\"List:\", my_list)\n",
    "print(\"Tuple:\", my_tuple)\n",
    "print(\"Dictionary:\", my_dict)"
   ]
  },
  {
   "cell_type": "code",
   "execution_count": 101,
   "id": "1afb1bb4-b4ab-415d-9a8d-ba38037346e6",
   "metadata": {},
   "outputs": [
    {
     "name": "stdout",
     "output_type": "stream",
     "text": [
      "[15, 18, 21, 90, 98]\n"
     ]
    }
   ],
   "source": [
    "# Q27) Write a code to create a list of 5 random numbers between 1 and 100, sort it in ascending order, and print the result.(replaced)\n",
    "\n",
    "import random\n",
    "\n",
    "# Generate a list of 5 random numbers between 1 and 100\n",
    "random_numbers = [random.randint(1, 100) for _ in range(5)]\n",
    "\n",
    "# Sort the list in ascending order\n",
    "random_numbers.sort()\n",
    "\n",
    "# Printing the sorted list\n",
    "print(random_numbers)"
   ]
  },
  {
   "cell_type": "code",
   "execution_count": 102,
   "id": "5eccf7b1-dcfe-48fe-b7cb-9f31c7900e36",
   "metadata": {},
   "outputs": [
    {
     "name": "stdout",
     "output_type": "stream",
     "text": [
      "date\n"
     ]
    }
   ],
   "source": [
    "# Q28) Write a code to create a list with strings and print the element at the third index.\n",
    "\n",
    "# Creating a list with strings\n",
    "my_list = [\"apple\", \"banana\", \"cherry\", \"date\", \"elderberry\"]\n",
    "\n",
    "# Printing the element at the third index (4th element)\n",
    "print(my_list[3])"
   ]
  },
  {
   "cell_type": "code",
   "execution_count": 103,
   "id": "5eaea2bb-53c2-4a75-affa-588ddad0c3e7",
   "metadata": {},
   "outputs": [
    {
     "name": "stdout",
     "output_type": "stream",
     "text": [
      "{'name': 'Alice', 'age': 25, 'city': 'New York', 'country': 'USA'}\n"
     ]
    }
   ],
   "source": [
    "# Q29) Write a code to combine two dictionaries into one and print the result.\n",
    "\n",
    "dict1 = {'name': 'Alice', 'age': 25}\n",
    "dict2 = {'city': 'New York', 'country': 'USA'}\n",
    "\n",
    "combined_dict = dict1 | dict2\n",
    "print(combined_dict)"
   ]
  },
  {
   "cell_type": "code",
   "execution_count": 104,
   "id": "1c609281-5599-477a-9aef-88b157e2e75e",
   "metadata": {},
   "outputs": [
    {
     "name": "stdout",
     "output_type": "stream",
     "text": [
      "{'name': 'Alice', 'age': 25, 'city': 'New York', 'country': 'USA'}\n"
     ]
    }
   ],
   "source": [
    "combined_dict = dict1.copy()\n",
    "combined_dict.update(dict2)\n",
    "print(combined_dict)"
   ]
  },
  {
   "cell_type": "code",
   "execution_count": 105,
   "id": "b3795e81-0fbb-427c-a809-ebe568c58325",
   "metadata": {},
   "outputs": [
    {
     "data": {
      "text/plain": [
       "{'apple', 'banana', 'cherry'}"
      ]
     },
     "execution_count": 105,
     "metadata": {},
     "output_type": "execute_result"
    }
   ],
   "source": [
    "# Q30) Write a code to convert a list of strings into a set.\n",
    "\n",
    "fruit_list = ['apple', 'banana', 'apple', 'cherry', 'banana']\n",
    "fruit_set = set(fruit_list)\n",
    "fruit_set"
   ]
  },
  {
   "cell_type": "code",
   "execution_count": 106,
   "id": "8847814b-16ac-450d-a0ee-e88f4974a2a8",
   "metadata": {},
   "outputs": [
    {
     "name": "stdout",
     "output_type": "stream",
     "text": [
      "{'banana', 'apple', 'cherry'}\n"
     ]
    }
   ],
   "source": [
    "print(fruit_set)"
   ]
  },
  {
   "cell_type": "code",
   "execution_count": null,
   "id": "fd839558-23d7-4eb3-a81c-f5b9b4cd3888",
   "metadata": {},
   "outputs": [],
   "source": []
  }
 ],
 "metadata": {
  "kernelspec": {
   "display_name": "Python 3 (ipykernel)",
   "language": "python",
   "name": "python3"
  },
  "language_info": {
   "codemirror_mode": {
    "name": "ipython",
    "version": 3
   },
   "file_extension": ".py",
   "mimetype": "text/x-python",
   "name": "python",
   "nbconvert_exporter": "python",
   "pygments_lexer": "ipython3",
   "version": "3.13.3"
  }
 },
 "nbformat": 4,
 "nbformat_minor": 5
}
